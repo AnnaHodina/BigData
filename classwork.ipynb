{
  "nbformat": 4,
  "nbformat_minor": 0,
  "metadata": {
    "colab": {
      "provenance": []
    },
    "kernelspec": {
      "name": "python3",
      "display_name": "Python 3"
    },
    "language_info": {
      "name": "python"
    }
  },
  "cells": [
    {
      "cell_type": "code",
      "execution_count": 1,
      "metadata": {
        "id": "AbfvotcmuUYC"
      },
      "outputs": [],
      "source": [
        "import pandas as pd # Подключение библиотеки pandas\n",
        "import datetime # Для работы с датами и временем\n"
      ]
    },
    {
      "cell_type": "markdown",
      "source": [
        "Объект Series\n",
        "\n",
        "\n"
      ],
      "metadata": {
        "id": "_ASFPYetxy75"
      }
    },
    {
      "cell_type": "code",
      "source": [
        "the_series=pd.Series([1,2,3,4,5]) # Series - Столбец\n",
        "print(the_series) # Вывод the_series\n",
        "the_series # Вывод the_series, но короче (только для G.Colab and Jupyter Notebook!)"
      ],
      "metadata": {
        "id": "rYy9E1kwx6cz"
      },
      "execution_count": null,
      "outputs": []
    },
    {
      "cell_type": "code",
      "source": [
        "# Вывод отдельных элементов series\n",
        "print(the_series[1]) # вывод 2 т.к. нумерация начинается с нуля\n",
        "print(the_series[1], the_series[4]) # вывод 2 и 5\n",
        "the_series[[1,4]] # возвращает series (новый!) с элементами 1, 4"
      ],
      "metadata": {
        "id": "LL0cpaK1y-Sc"
      },
      "execution_count": null,
      "outputs": []
    },
    {
      "cell_type": "code",
      "source": [
        "# Создаём Series, задавая индекс в явном виде\n",
        "the_second_series=pd.Series([\"one\", \"two\", \"three\", \"four\", \"five\"],\n",
        "                            index=[\"I\", \"II\",\"III\", \"IV\",\"V\"])\n",
        "the_second_series"
      ],
      "metadata": {
        "id": "nR3dwolG0Ho3"
      },
      "execution_count": null,
      "outputs": []
    },
    {
      "cell_type": "code",
      "source": [
        "the_second_series[[\"II\", \"IV\"]] # вывод значений с указанным индексом\n",
        "the_second_series.index # вывод индекса отдельно от объекта"
      ],
      "metadata": {
        "id": "vYEwURj-1H0K"
      },
      "execution_count": null,
      "outputs": []
    },
    {
      "cell_type": "markdown",
      "source": [
        "Генератор DateTime"
      ],
      "metadata": {
        "id": "k5sKOD3914rG"
      }
    },
    {
      "cell_type": "code",
      "source": [
        "the_dates=pd.date_range(\"2022-01-01\", \"2022-09-26\")\n",
        "the_dates"
      ],
      "metadata": {
        "id": "LxkV8VVS17y7"
      },
      "execution_count": null,
      "outputs": []
    }
  ]
}